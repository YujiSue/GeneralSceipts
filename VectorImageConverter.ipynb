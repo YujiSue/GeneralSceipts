{
  "nbformat": 4,
  "nbformat_minor": 0,
  "metadata": {
    "colab": {
      "provenance": [],
      "authorship_tag": "ABX9TyOdgWDnIJBPtKiJyrwNn4u7",
      "include_colab_link": true
    },
    "kernelspec": {
      "name": "python3",
      "display_name": "Python 3"
    },
    "language_info": {
      "name": "python"
    }
  },
  "cells": [
    {
      "cell_type": "markdown",
      "metadata": {
        "id": "view-in-github",
        "colab_type": "text"
      },
      "source": [
        "<a href=\"https://colab.research.google.com/github/YujiSue/GeneralScripts/blob/main/VectorImageConverter.ipynb\" target=\"_parent\"><img src=\"https://colab.research.google.com/assets/colab-badge.svg\" alt=\"Open In Colab\"/></a>"
      ]
    },
    {
      "cell_type": "markdown",
      "source": [
        "# Vector image conversion using Inkscape\n",
        "\n"
      ],
      "metadata": {
        "id": "Qw0SbaOlwqBu"
      }
    },
    {
      "cell_type": "code",
      "source": [
        "#@title Install required libs and apps\n",
        "!sudo apt-get -qq install -y inkscape"
      ],
      "metadata": {
        "cellView": "form",
        "id": "iZEkx6JPeIkP"
      },
      "execution_count": null,
      "outputs": []
    },
    {
      "cell_type": "code",
      "source": [
        "#@title Image => PDF (for Adobe Illustrator, other softwares, and printing)\n",
        "import os\n",
        "file = \"\" #@param {type:\"string\"}\n",
        "out = os.path.splitext(file)\n",
        "cmd = f\"dbus-run-session inkscape --export-filename={out[0]}.pdf {file}\"\n",
        "#print(cmd)\n",
        "os.system(cmd)"
      ],
      "metadata": {
        "cellView": "form",
        "id": "7ipS4C8QTiFk"
      },
      "execution_count": null,
      "outputs": []
    },
    {
      "cell_type": "code",
      "execution_count": null,
      "metadata": {
        "cellView": "form",
        "id": "S4ZPHZbNeCSi"
      },
      "outputs": [],
      "source": [
        "#@title Image => SVG (for web)\n",
        "import os\n",
        "file = \"\" #@param {type:\"string\"}\n",
        "out = os.path.splitext(file)\n",
        "cmd = f\"dbus-run-session inkscape --export-plain-svg={out[0]}.svg {file}\"\n",
        "#print(cmd)\n",
        "os.system(cmd)"
      ]
    },
    {
      "cell_type": "code",
      "source": [
        "#@title Image => WMF (for power point)\n",
        "import os\n",
        "file = \"\" #@param {type:\"string\"}\n",
        "out = os.path.splitext(file)\n",
        "cmd = f\"dbus-run-session inkscape --export-wmf={out[0]}.wmf {file}\"\n",
        "#print(cmd)\n",
        "os.system(cmd)"
      ],
      "metadata": {
        "cellView": "form",
        "id": "2KZKf7tdeDCY"
      },
      "execution_count": null,
      "outputs": []
    },
    {
      "cell_type": "code",
      "source": [
        "#@title Image => EMF (for power point; recommended)\n",
        "import os\n",
        "file = \"\" #@param {type:\"string\"}\n",
        "out = os.path.splitext(file)\n",
        "cmd = f\"dbus-run-session inkscape --export-filename={out[0]}.emf {file}\"\n",
        "#print(cmd)\n",
        "os.system(cmd)"
      ],
      "metadata": {
        "cellView": "form",
        "id": "ABy5joPwS1gS"
      },
      "execution_count": null,
      "outputs": []
    }
  ]
}