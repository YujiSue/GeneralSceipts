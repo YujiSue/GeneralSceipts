{
  "nbformat": 4,
  "nbformat_minor": 0,
  "metadata": {
    "colab": {
      "provenance": [],
      "mount_file_id": "1pZ66ooe9hY3b0gQEfv7-5XbXKJAHMM7s",
      "authorship_tag": "ABX9TyPM5rd+eroBL1vmlHSjK3UK",
      "include_colab_link": true
    },
    "kernelspec": {
      "name": "python3",
      "display_name": "Python 3"
    },
    "language_info": {
      "name": "python"
    }
  },
  "cells": [
    {
      "cell_type": "markdown",
      "metadata": {
        "id": "view-in-github",
        "colab_type": "text"
      },
      "source": [
        "<a href=\"https://colab.research.google.com/github/YujiSue/GeneralScripts/blob/main/VectorImageConverter.ipynb\" target=\"_parent\"><img src=\"https://colab.research.google.com/assets/colab-badge.svg\" alt=\"Open In Colab\"/></a>"
      ]
    },
    {
      "cell_type": "markdown",
      "source": [
        "# Vector image conversion using Inkscape\n",
        "\n"
      ],
      "metadata": {
        "id": "Qw0SbaOlwqBu"
      }
    },
    {
      "cell_type": "markdown",
      "source": [
        "## Step 1. Install Inkscape\n",
        "\n",
        "Inkscape should be installed first, as it is not installed on Google Colab.  \n",
        "Run the cell below."
      ],
      "metadata": {
        "id": "HSksWrlc3TzP"
      }
    },
    {
      "cell_type": "code",
      "source": [
        "#@title Install\n",
        "!apt-get install -qq -y inkscape &> /dev/null\n",
        "!inkscape --version"
      ],
      "metadata": {
        "id": "iZEkx6JPeIkP",
        "cellView": "form",
        "colab": {
          "base_uri": "https://localhost:8080/"
        },
        "outputId": "865c062a-6e8f-4a3d-bd28-9231fa60d04c"
      },
      "execution_count": 3,
      "outputs": [
        {
          "output_type": "stream",
          "name": "stdout",
          "text": [
            "Inkscape 1.1.2 (0a00cf5339, 2022-02-04)\n"
          ]
        }
      ]
    },
    {
      "cell_type": "markdown",
      "source": [
        "## Step 2. Prepare vector image file(s)\n",
        "\n",
        "You can use vector images with various format (ex, ai, pdf, svg, and eps) as inputs.   \n",
        "  \n",
        "Upload the input vector image(s) to Colab's storage manually, or via the file dialog by running the cell below."
      ],
      "metadata": {
        "id": "8f-fMD2j3KX3"
      }
    },
    {
      "cell_type": "code",
      "source": [
        "#@title Upload\n",
        "from google.colab import files\n",
        "uploaded = files.upload()"
      ],
      "metadata": {
        "cellView": "form",
        "id": "DQ52UPbl3b-X"
      },
      "execution_count": null,
      "outputs": []
    },
    {
      "cell_type": "markdown",
      "source": [
        "## Step 3. Conversion\n",
        "\n",
        "Select the code cell according to the format which you want to export and run it.  "
      ],
      "metadata": {
        "id": "ATHx5JmD3RKj"
      }
    },
    {
      "cell_type": "code",
      "source": [
        "#@title Convert to PDF\n",
        "import os\n",
        "#@markdown * Set the file path of a source image\n",
        "file = \"\" #@param {type:\"string\"}\n",
        "out = os.path.splitext(file)\n",
        "cmd = f\"inkscape --export-filename={out[0]}.pdf {file}\"\n",
        "res = os.system(cmd)"
      ],
      "metadata": {
        "cellView": "form",
        "id": "7ipS4C8QTiFk"
      },
      "execution_count": 10,
      "outputs": []
    },
    {
      "cell_type": "code",
      "source": [
        "#@title Convert to EPS\n",
        "import os\n",
        "#@markdown * Set the file path of a source image\n",
        "file = \"\" #@param {type:\"string\"}\n",
        "out = os.path.splitext(file)\n",
        "cmd = f\"inkscape --export-filename={out[0]}.eps --export-text-to-path {file}\"\n",
        "res = os.system(cmd)"
      ],
      "metadata": {
        "cellView": "form",
        "id": "DVU7mEJf3wpT"
      },
      "execution_count": 9,
      "outputs": []
    },
    {
      "cell_type": "code",
      "execution_count": null,
      "metadata": {
        "cellView": "form",
        "id": "S4ZPHZbNeCSi"
      },
      "outputs": [],
      "source": [
        "#@title Convert to SVG\n",
        "import os\n",
        "#@markdown * Set the file path of a source image\n",
        "file = \"\" #@param {type:\"string\"}\n",
        "out = os.path.splitext(file)\n",
        "cmd = f\"inkscape --export-plain-svg={out[0]}.svg {file}\"\n",
        "res = os.system(cmd)"
      ]
    },
    {
      "cell_type": "code",
      "source": [
        "#@title Convert to WMF\n",
        "import os\n",
        "#@markdown * Set the file path of a source image\n",
        "file = \"\" #@param {type:\"string\"}\n",
        "out = os.path.splitext(file)\n",
        "cmd = f\"inkscape --export-filename={out[0]}.wmf {file}\"\n",
        "res = os.system(cmd)"
      ],
      "metadata": {
        "cellView": "form",
        "id": "2KZKf7tdeDCY"
      },
      "execution_count": 7,
      "outputs": []
    },
    {
      "cell_type": "code",
      "source": [
        "#@title Convert to EMF\n",
        "import os\n",
        "#@markdown * Set the file path of a source image\n",
        "file = \"\" #@param {type:\"string\"}\n",
        "out = os.path.splitext(file)\n",
        "cmd = f\"inkscape --export-filename={out[0]}.emf {file}\"\n",
        "res = os.system(cmd)"
      ],
      "metadata": {
        "cellView": "form",
        "id": "ABy5joPwS1gS"
      },
      "execution_count": 6,
      "outputs": []
    },
    {
      "cell_type": "code",
      "source": [
        "#@title Convert to PNG\n",
        "import os\n",
        "#@markdown * Set the file path of a source image\n",
        "file = \"\" #@param {type:\"string\"}\n",
        "#@markdown * Select the background color\n",
        "background = \"white\" #@param[\"white\", \"transparent\"]\n",
        "out = os.path.splitext(file)\n",
        "cmd = f\"inkscape --export-background=white --export-background-opacity={'1.0' if background == 'white' else '0.0' } --export-filename={out[0]}.png {file}\"\n",
        "res = os.system(cmd)"
      ],
      "metadata": {
        "cellView": "form",
        "id": "jn5OURhE-Ei1"
      },
      "execution_count": 5,
      "outputs": []
    },
    {
      "cell_type": "markdown",
      "source": [
        "ver. 1.0.0  \n",
        "©Yuji Suehiro 2024."
      ],
      "metadata": {
        "id": "xc9ShUUWHt5C"
      }
    }
  ]
}