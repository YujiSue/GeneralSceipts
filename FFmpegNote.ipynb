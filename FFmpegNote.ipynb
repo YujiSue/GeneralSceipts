{
  "cells": [
    {
      "cell_type": "markdown",
      "metadata": {
        "id": "view-in-github",
        "colab_type": "text"
      },
      "source": [
        "<a href=\"https://colab.research.google.com/github/YujiSue/GeneralScripts/blob/main/FFmpegNote.ipynb\" target=\"_parent\"><img src=\"https://colab.research.google.com/assets/colab-badge.svg\" alt=\"Open In Colab\"/></a>"
      ]
    },
    {
      "cell_type": "markdown",
      "metadata": {
        "id": "amHBqL5QJnnA"
      },
      "source": [
        "# FFmpeg on Google Colab\n"
      ]
    },
    {
      "cell_type": "code",
      "execution_count": null,
      "metadata": {
        "cellView": "form",
        "id": "fM7VagnVNvqC"
      },
      "outputs": [],
      "source": [
        "#@title Movie information / 動画の情報\n",
        "import os\n",
        "import subprocess\n",
        "input_movie = 'sample.mp4' #@param {type:'string'}\n",
        "cmd = f'ffmpeg -i \"{input_movie}\"'\n",
        "print('>', cmd)\n",
        "res = subprocess.run(cmd, shell=True, capture_output=True, text=True)\n",
        "print(res.stderr)"
      ]
    },
    {
      "cell_type": "code",
      "execution_count": null,
      "metadata": {
        "cellView": "form",
        "id": "rNFiIowP1zjN"
      },
      "outputs": [],
      "source": [
        "#@title Play movie (mp4 only) / 動画の再生\n",
        "from IPython.display import HTML\n",
        "from base64 import b64encode\n",
        "input = 'sample.mp4' #@param {type:'string'}\n",
        "mp4 = open(input,'rb').read()\n",
        "url = \"data:video/mp4;base64,\" + b64encode(mp4).decode()\n",
        "HTML(\"\"\"\n",
        "<video width=640 controls>\n",
        "  <source src=\"%s\" type=\"video/mp4\">\n",
        "</video>\n",
        "\"\"\" % url)"
      ]
    },
    {
      "cell_type": "markdown",
      "source": [
        "## Conversion / 変換"
      ],
      "metadata": {
        "id": "ZuSJw6xO0Qlp"
      }
    },
    {
      "cell_type": "code",
      "execution_count": null,
      "metadata": {
        "cellView": "form",
        "id": "7b4rjlezNnS-"
      },
      "outputs": [],
      "source": [
        "#@title Format conversion / 動画フォーマットの変換\n",
        "import os\n",
        "import subprocess\n",
        "input_movie = 'sample.mp4' #@param {'type':'string'}\n",
        "output_name = 'stream' #@param {'type':'string'}\n",
        "output_format = 'ts' #@param['mp4', 'mov', 'wmf', 'ts', 'avi']\n",
        "cmd = f'ffmpeg -y -i \"{input_movie}\" \"{output_name}.{output_format}\"'\n",
        "print('>',cmd)\n",
        "res = subprocess.run(cmd, shell=True, capture_output=True, text=True)\n",
        "print(res.stderr)"
      ]
    },
    {
      "cell_type": "code",
      "execution_count": null,
      "metadata": {
        "cellView": "form",
        "id": "goSWhm2moiDj"
      },
      "outputs": [],
      "source": [
        "#@title Time lapse images to movie / タイムラプス画像から動画生成\n",
        "import os\n",
        "import subprocess\n",
        "input_dir = '/content/images' #@param {'type':'string'}\n",
        "image_prefix = 'img' #@param {'type':'string'}\n",
        "image_index_digit = 4 #@param {'type':'raw'}\n",
        "image_format = 'jpg' #@param ['jpg', 'jpeg', 'png', 'tif', 'tiff']\n",
        "frame_rate = 29.97 #@param {'type':'raw'}\n",
        "video_codec = 'libx264' #@param {'type':'string'}\n",
        "pixel_format = 'yuv420p' #@param {'type':'string'}\n",
        "output_movie = 'product.mp4' #@param {'type':'string'}\n",
        "cmd = f'ffmpeg -y -r {frame_rate} -i \"{input_dir}/{image_prefix}%{image_index_digit}d.{image_format}\" -c:v {video_codec} -pix_fmt {pixel_format} \"{output_movie}\"'\n",
        "print('>',cmd)\n",
        "res = subprocess.run(cmd, shell=True, capture_output=True, text=True)\n",
        "print(res.stderr)"
      ]
    },
    {
      "cell_type": "code",
      "execution_count": null,
      "metadata": {
        "cellView": "form",
        "id": "wjP-JTf7oiGn"
      },
      "outputs": [],
      "source": [
        "#@title Movie to sequential images / 動画から連続画像作成\n",
        "import os\n",
        "import subprocess\n",
        "input_movie = 'sample.mp4' #@param {'type':'string'}\n",
        "output_dir = '/content/mov2img' #@param {'type':'string'}\n",
        "output_prefix = 'mov' #@param {'type':'string'}\n",
        "output_digit = 4 #@param {'type':'raw'}\n",
        "output_format = 'jpg' #@param ['jpg','png']\n",
        "os.makedirs(output_dir,exist_ok=True)\n",
        "codec = ''\n",
        "if output_format == 'jpg':\n",
        "  codec = 'mjpeg'\n",
        "elif output_format == 'png':\n",
        "  codec = 'png'\n",
        "cmd = f'ffmpeg -y -i \"{input_movie}\" -c:v {codec} \"{output_dir}/{output_prefix}%{output_digit}d.{output_format}\"'\n",
        "print('>',cmd)\n",
        "res = subprocess.run(cmd, shell=True, capture_output=True, text=True)\n",
        "print(res.stderr)"
      ]
    },
    {
      "cell_type": "markdown",
      "source": [
        "## Assemble and disassemble / トラックの抽出と結合"
      ],
      "metadata": {
        "id": "bUcA7M5xz827"
      }
    },
    {
      "cell_type": "code",
      "execution_count": null,
      "metadata": {
        "cellView": "form",
        "id": "vSvGyHiMx9lV"
      },
      "outputs": [],
      "source": [
        "#@title Extract only video track / 映像トラックの抽出\n",
        "import os\n",
        "import subprocess\n",
        "input_movie = 'sample.mp4' #@param {type:'string'}\n",
        "output_video = 'video_only.mp4' #@param {type:'string'}\n",
        "cmd = f'ffmpeg -y -i \"{input_movie}\" -an -c:v copy -c:s copy \"{output_video}\"'\n",
        "print('>',cmd)\n",
        "res = subprocess.run(cmd, shell=True, capture_output=True, text=True)\n",
        "print(res.stderr)"
      ]
    },
    {
      "cell_type": "code",
      "execution_count": null,
      "metadata": {
        "cellView": "form",
        "id": "DMxaUdy5x9rA"
      },
      "outputs": [],
      "source": [
        "#@title Extract only audio track / 音声トラックの抽出\n",
        "import os\n",
        "import subprocess\n",
        "input_movie = 'sample.mp4' #@param {type:'string'}\n",
        "output_sound = 'sound_only.aac' #@param {type:'string'}\n",
        "cmd = f'ffmpeg -y -i \"{input_movie}\" -vn -c:a copy \"{output_sound}\"'\n",
        "print('>',cmd)\n",
        "res = subprocess.run(cmd, shell=True, capture_output=True, text=True)\n",
        "print(res.stderr)"
      ]
    },
    {
      "cell_type": "code",
      "execution_count": null,
      "metadata": {
        "id": "faLt5KbJyJ9B",
        "cellView": "form"
      },
      "outputs": [],
      "source": [
        "#@title Combine video and audio track / ビデオトラックと音声トラックの合成\n",
        "import os\n",
        "import subprocess\n",
        "input_video = 'video_only.mp4' #@param {type:'string'}\n",
        "input_sound = 'sound_only.aac' #@param {type:'string'}\n",
        "output_movie = 'combine.mp4' #@param {type:'string'}\n",
        "cmd = f'ffmpeg -i {input_video} -i {input_sound} -c:v copy -map 0:v -map 1:a -y '\n",
        "print('>',cmd)\n",
        "res = subprocess.run(cmd, shell=True, capture_output=True, text=True)\n",
        "print(res.stderr)"
      ]
    },
    {
      "cell_type": "markdown",
      "source": [
        "## Cange spacial resolution / 画面解像度の変更"
      ],
      "metadata": {
        "id": "F3GhV7IDy6JN"
      }
    },
    {
      "cell_type": "code",
      "execution_count": null,
      "metadata": {
        "cellView": "form",
        "id": "sg48vMiOO8L3"
      },
      "outputs": [],
      "source": [
        "#@title Frame resize / リサイズ\n",
        "import os\n",
        "import subprocess\n",
        "input_movie = 'sample.mp4' #@param {type:'string'}\n",
        "width = 640 #@param{type:'raw'}\n",
        "height = 480 #@param{type:'raw'}\n",
        "output_movie = 'resize.mp4' #@param {type:'string'}\n",
        "cmd = f'ffmpeg -y -i \"{input_movie}\" -filter:v \"scale={width}:{height}\" \"{output_movie}\"'\n",
        "print('>',cmd)\n",
        "res = subprocess.run(cmd, shell=True, capture_output=True, text=True)\n",
        "print(res.stderr)"
      ]
    },
    {
      "cell_type": "code",
      "execution_count": null,
      "metadata": {
        "cellView": "form",
        "id": "-QnDyYvowe64"
      },
      "outputs": [],
      "source": [
        "#@title Crop frame / フレームの切り抜き\n",
        "import os\n",
        "import subprocess\n",
        "input_movie = 'sample.mp4' #@param {type:'string'}\n",
        "ori_x = -1 #@param{type:'raw'}\n",
        "ori_y = -1 #@param{type:'raw'}\n",
        "width = 960 #@param{type:'raw'}\n",
        "height = 540 #@param{type:'raw'}\n",
        "output_movie = 'crop.mp4' #@param {type:'string'}\n",
        "x = f'{ori_x}'\n",
        "if ori_x == -1:\n",
        "  x = f'(iw-{width})/2'\n",
        "y = f'{ori_y}'\n",
        "if ori_y == -1:\n",
        "  y = f'(ih-{height})/2'\n",
        "cmd = f'ffmpeg -y -i \"{input_movie}\" -filter:v \"crop={width}:{height}:{x}:{y}\" \"{output_movie}\"'\n",
        "print('>',cmd)\n",
        "res = subprocess.run(cmd, shell=True, capture_output=True, text=True)\n",
        "print(res.stderr)"
      ]
    },
    {
      "cell_type": "code",
      "execution_count": null,
      "metadata": {
        "cellView": "form",
        "id": "BqS0ytJiwMEj"
      },
      "outputs": [],
      "source": [
        "#@title Frame padding / フレームのパディング\n",
        "import os\n",
        "import subprocess\n",
        "input_movie = 'crop.mp4' #@param {type:'string'}\n",
        "width = 960 #@param{type:'raw'}\n",
        "height = 720 #@param{type:'raw'}\n",
        "output_movie = 'padding.mp4' #@param {type:'string'}\n",
        "cmd = f'ffmpeg -y -i \"{input_movie}\" -filter:v \"pad={width}:{height}:({width}-iw)/2:({height}-ih)/2\" \"{output_movie}\"'\n",
        "print('>',cmd)\n",
        "res = subprocess.run(cmd, shell=True, capture_output=True, text=True)\n",
        "print(res.stderr)"
      ]
    },
    {
      "cell_type": "markdown",
      "source": [
        "## Edit temporal information / 時系情報の変更"
      ],
      "metadata": {
        "id": "E23fn6JyzFOR"
      }
    },
    {
      "cell_type": "code",
      "execution_count": null,
      "metadata": {
        "cellView": "form",
        "id": "7aomJHwsyMqP"
      },
      "outputs": [],
      "source": [
        "#@title Clip a part of a movie / 動画の一部を切り出し\n",
        "import os\n",
        "import subprocess\n",
        "input_movie = 'sample.mp4' #@param {type:'string'}\n",
        "offset_time = 5 #@param {type:'raw'}\n",
        "duration = 10 #@param {type:'raw'}\n",
        "output_movie = 'clip.mp4' #@param {type:'string'}\n",
        "cmd = f'ffmpeg -y -ss {offset_time} -i \"{input_movie}\" -t {duration} -c:a copy -c:v copy -c:s copy \"{output_movie}\"'\n",
        "print('>',cmd)\n",
        "res = subprocess.run(cmd, shell=True, capture_output=True, text=True)\n",
        "print(res.stderr)"
      ]
    },
    {
      "cell_type": "code",
      "execution_count": null,
      "metadata": {
        "cellView": "form",
        "id": "HXmTjfWtyQhg"
      },
      "outputs": [],
      "source": [
        "#@title Split into short movies for streaming (HLS) / HLSストリーミング配信用に動画を分割\n",
        "import os\n",
        "import subprocess\n",
        "input_movie = 'sample.mp4' #@param {type:'string'}\n",
        "interval = 10 #@param {type:'raw'}\n",
        "output_directory = '/content/streaming' #@param {type:'string'}\n",
        "output_prefix = 'mov' #@param {type:'string'}\n",
        "output_digit = 4 #@param {type:'raw'}\n",
        "playlist = 'playlist' #@param {type:'string'}\n",
        "os.makedirs(output_directory, exist_ok=True)\n",
        "cmd = f'ffmpeg -y -i \"{input_movie}\" -c:v copy -c:a copy -c:s copy -f hls -hls_time {interval} -hls_playlist_type vod -hls_segment_filename \"{output_directory}/{output_prefix}%{output_digit}d.ts\" \"{output_directory}/{playlist}.m3u8\"'\n",
        "print('>',cmd)\n",
        "res = subprocess.run(cmd, shell=True, capture_output=True, text=True)\n",
        "print(res.stderr)"
      ]
    },
    {
      "cell_type": "code",
      "execution_count": null,
      "metadata": {
        "cellView": "form",
        "id": "zWaQ61PENncB"
      },
      "outputs": [],
      "source": [
        "#@title Change play speed (Video only) / 再生速度の変更（映像のみ）\n",
        "#@markdown \\* Audio track is not changed.\n",
        "import os\n",
        "import subprocess\n",
        "input_movie = 'sample.mp4' #@param {'type':'string'}\n",
        "mode = 'faster' #@param['faster', 'slower']\n",
        "rate = 3.0 #@param{type:'raw'}\n",
        "pts = ''\n",
        "if mode == 'faster':\n",
        "  pts = str(1.0/rate)\n",
        "else:\n",
        "  pts = str(rate)\n",
        "output_movie = 'fast.mp4' #@param {type:'string'}\n",
        "cmd = f'ffmpeg -y -i \"{input_movie}\" -filter:v \"setpts={pts}*PTS\" \"{output_movie}\"'\n",
        "print('>',cmd)\n",
        "res = subprocess.run(cmd, shell=True, capture_output=True, text=True)\n",
        "print(res.stderr)"
      ]
    },
    {
      "cell_type": "markdown",
      "source": [
        "## Concatenate movies / 動画の連結"
      ],
      "metadata": {
        "id": "v2dLFVA9kztr"
      }
    },
    {
      "cell_type": "code",
      "source": [
        "#@title Make movie file list / 連結動画のファイルリスト作成\n",
        "%%writefile movlist.txt\n",
        "file '/content/streaming/mov0000.ts'\n",
        "file '/content/streaming/mov0001.ts'"
      ],
      "metadata": {
        "cellView": "form",
        "id": "xe4MztsJktb7"
      },
      "execution_count": null,
      "outputs": []
    },
    {
      "cell_type": "code",
      "execution_count": null,
      "metadata": {
        "id": "FcY1AtrcYn1a",
        "cellView": "form"
      },
      "outputs": [],
      "source": [
        "#@title Concat movies\n",
        "#@markdown List all the file paths to concat as comma-separated text in 'input_list'\n",
        "import os\n",
        "import subprocess\n",
        "input_list = 'movlist.txt' #@param {type:'string'}\n",
        "output_movie = 'concat.mp4' #@param {type:'string'}\n",
        "cmd = f'ffmpeg -f concat -safe 0 -i \"{input_list}\" -c copy -y \"{output_movie}\"'\n",
        "print('>',cmd)\n",
        "res = subprocess.run(cmd, shell=True, capture_output=True, text=True)\n",
        "print(res.stderr)"
      ]
    },
    {
      "cell_type": "markdown",
      "metadata": {
        "id": "p--WRl50LVOB"
      },
      "source": [
        "## Insert subtitle / 字幕の挿入"
      ]
    },
    {
      "cell_type": "code",
      "source": [
        "#@title (Optional) Install Japanese font / 日本語フォントインストール\n",
        "!apt-get -y install fonts-ipafont-gothic"
      ],
      "metadata": {
        "cellView": "form",
        "id": "q1k0s4abWfXm"
      },
      "execution_count": null,
      "outputs": []
    },
    {
      "cell_type": "code",
      "execution_count": 33,
      "metadata": {
        "id": "AOwcm1qgNB7M",
        "cellView": "form"
      },
      "outputs": [],
      "source": [
        "#@title Make SRT file / 字幕ファイルの生成\n",
        "import os\n",
        "stream = 1 #@param\n",
        "srt_name = 'subtitle' #@param {'type':'string'}\n",
        "offset = 0 #@param\n",
        "duration = 10 #@param\n",
        "text = \"Subtitle\" #@param {'type':'string'}\n",
        "\n",
        "def makeTimeStamp(time):\n",
        "  h = int((time-time%3600)/3600)\n",
        "  time = time%3600\n",
        "  m = int((time-time%60)/60)\n",
        "  s = time % 60\n",
        "  return str(h).zfill(2)+\":\"+str(m).zfill(2)+\":\"+str(s).zfill(2)+\",000\"\n",
        "\n",
        "with open(os.path.join('/content', srt_name + '.srt'), 'w') as f:\n",
        "  f.write(f\"{str(stream)}\\n{makeTimeStamp(offset)} --> {makeTimeStamp(offset + duration)}\\n{text}\")"
      ]
    },
    {
      "cell_type": "code",
      "execution_count": null,
      "metadata": {
        "id": "x-borbszNnfW",
        "cellView": "form"
      },
      "outputs": [],
      "source": [
        "#@title Insert subtitle / 字幕ファイルの挿入\n",
        "import os\n",
        "import subprocess\n",
        "input_movie = 'resize.mp4' #@param {'type':'string'}\n",
        "srt_file = 'subtitle.srt' #@param {type:'string'}\n",
        "output_movie = 'subtitled.mp4' #@param {type:'string'}\n",
        "#@markdown Text style\n",
        "font_size = 24 #@param {'type': 'raw'}\n",
        "font_color = 'FFFFFF' #@param {'type': 'string'}\n",
        "font_name = 'Liberation Sans' #@param {'type': 'string'}\n",
        "#@markdown Position\n",
        "set_position = False #@param {'type': 'boolean'}\n",
        "left = 0 #@param {'type': 'raw'}\n",
        "height = 100 #@param {'type': 'raw'}\n",
        "\n",
        "style = ''\n",
        "if set_position:\n",
        "  style = f'Alignment=0,MarginL={left},MarginV={height},'\n",
        "style = style + f'FontName={font_name},FontSize={font_size},PrimaryColour=&H{font_color}&'\n",
        "cmd = f'ffmpeg -i \"{input_movie}\" -filter:v \"subtitles={srt_file}:force_style=\\'{style}\\'\" -c:a copy -y \"{output_movie}\"'\n",
        "print('>',cmd)\n",
        "res = subprocess.run(cmd, shell=True, capture_output=True, text=True)\n",
        "print(res.stderr)"
      ]
    },
    {
      "cell_type": "markdown",
      "metadata": {
        "id": "jFCAvL86KPiE"
      },
      "source": [
        "ver. 1.0.0  \n",
        "&copy;Yuji Suehiro 2023."
      ]
    }
  ],
  "metadata": {
    "colab": {
      "provenance": [],
      "collapsed_sections": [
        "ZuSJw6xO0Qlp",
        "bUcA7M5xz827",
        "F3GhV7IDy6JN",
        "E23fn6JyzFOR",
        "v2dLFVA9kztr"
      ],
      "toc_visible": true,
      "mount_file_id": "1uulwpi7wehXR7C3dAFIGl6VnDw2O305U",
      "authorship_tag": "ABX9TyPvEt5kYBql6ahMdd2xbpYi",
      "include_colab_link": true
    },
    "kernelspec": {
      "display_name": "Python 3",
      "name": "python3"
    },
    "language_info": {
      "name": "python"
    }
  },
  "nbformat": 4,
  "nbformat_minor": 0
}